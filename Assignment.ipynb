{
 "cells": [
  {
   "cell_type": "markdown",
   "metadata": {},
   "source": [
    "# EC771 - Empirical Assignment: Regression Discontinuity\n",
    "## Michaela Philip"
   ]
  },
  {
   "cell_type": "markdown",
   "metadata": {},
   "source": [
    "### Assignment by Professor Ian McCarthy\n",
    "\n",
    "### All data from Keith M. Marzilli Ericson (2014)"
   ]
  },
  {
   "cell_type": "code",
   "execution_count": 7,
   "metadata": {},
   "outputs": [],
   "source": [
    "import numpy as np \n",
    "import pandas as pd \n",
    "from tabulate import tabulate \n",
    "import statsmodels.formula.api as smf\n",
    "import matplotlib.pyplot as plt\n",
    "import warnings\n",
    "warnings.filterwarnings('ignore', category=pd.errors.SettingWithCopyWarning)"
   ]
  },
  {
   "cell_type": "markdown",
   "metadata": {},
   "source": [
    "##### 1. Recreate the table of descriptive statistics (Table 1) from Ericson (2014)."
   ]
  },
  {
   "cell_type": "code",
   "execution_count": 13,
   "metadata": {},
   "outputs": [
    {
     "data": {
      "text/html": [
       "<div>\n",
       "<style scoped>\n",
       "    .dataframe tbody tr th:only-of-type {\n",
       "        vertical-align: middle;\n",
       "    }\n",
       "\n",
       "    .dataframe tbody tr th {\n",
       "        vertical-align: top;\n",
       "    }\n",
       "\n",
       "    .dataframe thead th {\n",
       "        text-align: right;\n",
       "    }\n",
       "</style>\n",
       "<table border=\"1\" class=\"dataframe\">\n",
       "  <thead>\n",
       "    <tr style=\"text-align: right;\">\n",
       "      <th></th>\n",
       "      <th>2006</th>\n",
       "      <th>2007</th>\n",
       "      <th>2008</th>\n",
       "      <th>2009</th>\n",
       "      <th>2010</th>\n",
       "    </tr>\n",
       "  </thead>\n",
       "  <tbody>\n",
       "    <tr>\n",
       "      <th>Mean monthly premium</th>\n",
       "      <td>$37</td>\n",
       "      <td>$40</td>\n",
       "      <td>$36</td>\n",
       "      <td>$30</td>\n",
       "      <td>$33</td>\n",
       "    </tr>\n",
       "    <tr>\n",
       "      <th></th>\n",
       "      <td>(13)</td>\n",
       "      <td>(17)</td>\n",
       "      <td>(20)</td>\n",
       "      <td>(5)</td>\n",
       "      <td>(9)</td>\n",
       "    </tr>\n",
       "    <tr>\n",
       "      <th>Mean deductible</th>\n",
       "      <td>$92</td>\n",
       "      <td>$114</td>\n",
       "      <td>$146</td>\n",
       "      <td>$253</td>\n",
       "      <td>$118</td>\n",
       "    </tr>\n",
       "    <tr>\n",
       "      <th></th>\n",
       "      <td>(116)</td>\n",
       "      <td>(128)</td>\n",
       "      <td>(125)</td>\n",
       "      <td>(102)</td>\n",
       "      <td>(139)</td>\n",
       "    </tr>\n",
       "    <tr>\n",
       "      <th>Fraction enhanced benefit</th>\n",
       "      <td>0.43</td>\n",
       "      <td>0.43</td>\n",
       "      <td>0.58</td>\n",
       "      <td>0.03</td>\n",
       "      <td>0.69</td>\n",
       "    </tr>\n",
       "    <tr>\n",
       "      <th>Fraction of US firms</th>\n",
       "      <td>0.0</td>\n",
       "      <td>0.76</td>\n",
       "      <td>0.98</td>\n",
       "      <td>1.0</td>\n",
       "      <td>0.97</td>\n",
       "    </tr>\n",
       "    <tr>\n",
       "      <th>Fraction of state firms</th>\n",
       "      <td>0.0</td>\n",
       "      <td>0.53</td>\n",
       "      <td>0.91</td>\n",
       "      <td>0.68</td>\n",
       "      <td>0.86</td>\n",
       "    </tr>\n",
       "    <tr>\n",
       "      <th>Number of unique firms</th>\n",
       "      <td>51</td>\n",
       "      <td>38</td>\n",
       "      <td>16</td>\n",
       "      <td>5</td>\n",
       "      <td>6</td>\n",
       "    </tr>\n",
       "    <tr>\n",
       "      <th>Number of plans</th>\n",
       "      <td>1,429</td>\n",
       "      <td>658</td>\n",
       "      <td>202</td>\n",
       "      <td>68</td>\n",
       "      <td>107</td>\n",
       "    </tr>\n",
       "  </tbody>\n",
       "</table>\n",
       "</div>"
      ],
      "text/plain": [
       "                            2006   2007   2008   2009   2010\n",
       "Mean monthly premium         $37    $40    $36    $30    $33\n",
       "                            (13)   (17)   (20)    (5)    (9)\n",
       "Mean deductible              $92   $114   $146   $253   $118\n",
       "                           (116)  (128)  (125)  (102)  (139)\n",
       "Fraction enhanced benefit   0.43   0.43   0.58   0.03   0.69\n",
       "Fraction of US firms         0.0   0.76   0.98    1.0   0.97\n",
       "Fraction of state firms      0.0   0.53   0.91   0.68   0.86\n",
       "Number of unique firms        51     38     16      5      6\n",
       "Number of plans            1,429    658    202     68    107"
      ]
     },
     "execution_count": 13,
     "metadata": {},
     "output_type": "execute_result"
    }
   ],
   "source": [
    "from data_code.load_clean_data import main as main\n",
    "from helpers.descriptive_statistics import get_stats\n",
    "from helpers.tables import create_table\n",
    "\n",
    "descriptive_stats = get_stats(main)\n",
    "\n",
    "table_1 = descriptive_stats.T\n",
    "\n",
    "index = ['Mean monthly premium', '  ', 'Mean deductible', '  ', 'Fraction enhanced benefit', 'Fraction of US firms', 'Fraction of state firms', 'Number of unique firms', 'Number of plans']\n",
    "table_1.index = index\n",
    "table_1"
   ]
  },
  {
   "cell_type": "markdown",
   "metadata": {},
   "source": [
    "##### 2. Recreate Figure 3 from Ericson (2014)."
   ]
  },
  {
   "cell_type": "code",
   "execution_count": 11,
   "metadata": {},
   "outputs": [
    {
     "name": "stdout",
     "output_type": "stream",
     "text": [
      "1\n",
      "2\n",
      "3\n",
      "4\n",
      "5\n",
      "6\n",
      "7\n",
      "8\n",
      "9\n",
      "10\n",
      "11\n",
      "12\n",
      "13\n",
      "14\n",
      "15\n",
      "16\n",
      "17\n",
      "18\n",
      "19\n",
      "20\n",
      "1\n",
      "2\n",
      "3\n",
      "4\n",
      "5\n",
      "6\n",
      "7\n",
      "8\n",
      "9\n",
      "10\n",
      "11\n",
      "12\n",
      "13\n",
      "14\n",
      "15\n",
      "16\n",
      "17\n",
      "18\n",
      "19\n",
      "20\n"
     ]
    },
    {
     "name": "stderr",
     "output_type": "stream",
     "text": [
      "C:\\Users\\micha\\AppData\\Local\\Temp\\ipykernel_30464\\3989478394.py:11: SettingWithCopyWarning: \n",
      "A value is trying to be set on a copy of a slice from a DataFrame.\n",
      "Try using .loc[row_indexer,col_indexer] = value instead\n",
      "\n",
      "See the caveats in the documentation: https://pandas.pydata.org/pandas-docs/stable/user_guide/indexing.html#returning-a-view-versus-a-copy\n",
      "  scatter_data['bin_scatter'] = bin_scatter.predict(scatter_data)\n",
      "C:\\Users\\micha\\AppData\\Local\\Temp\\ipykernel_30464\\3989478394.py:17: SettingWithCopyWarning: \n",
      "A value is trying to be set on a copy of a slice from a DataFrame.\n",
      "Try using .loc[row_indexer,col_indexer] = value instead\n",
      "\n",
      "See the caveats in the documentation: https://pandas.pydata.org/pandas-docs/stable/user_guide/indexing.html#returning-a-view-versus-a-copy\n",
      "  lin_data['local_lin'] = local_lin.predict(lin_data)\n",
      "C:\\Users\\micha\\AppData\\Local\\Temp\\ipykernel_30464\\3989478394.py:24: SettingWithCopyWarning: \n",
      "A value is trying to be set on a copy of a slice from a DataFrame.\n",
      "Try using .loc[row_indexer,col_indexer] = value instead\n",
      "\n",
      "See the caveats in the documentation: https://pandas.pydata.org/pandas-docs/stable/user_guide/indexing.html#returning-a-view-versus-a-copy\n",
      "  poly_data['quart_poly'] = quart_poly.predict(poly_data)\n"
     ]
    }
   ],
   "source": [
    "from data_code.load_clean_data import full_data as full_data\n",
    "from helpers.bins import get_bins\n",
    "\n",
    "full_data = get_bins(full_data, 2006, 20, 10)\n",
    "results = pd.DataFrame()\n",
    "\n",
    "#local averages with bin size $0.50, bandwidth of $10, year 2006, no enhanced benefits\n",
    "condition1 = ((full_data['rd_window_1'] == 1) & (full_data['year'] == 2006) & (full_data['e_ben']==0))\n",
    "scatter_data = full_data[condition1]\n",
    "bin_scatter = smf.ols(formula = 'ln_share ~ C(bin)', data = scatter_data).fit()\n",
    "scatter_data['bin_scatter'] = bin_scatter.predict(scatter_data)\n",
    "\n",
    "#local linear predition with bandwidth of $4, year 2006, no enhanced benefits\n",
    "condition2 = ((full_data['rd_window_2'] == 1) & (full_data['year'] == 2006) & (full_data['e_ben']==0))\n",
    "lin_data = full_data[condition2]\n",
    "local_lin = smf.ols(formula = 'ln_share ~ below_bench_1 + lis_prem_pos + lis_prem_neg', data = lin_data).fit(cov_type='cluster', cov_kwds={'groups': lin_data['uniqueID']})\n",
    "lin_data['local_lin'] = local_lin.predict(lin_data)\n",
    "lin_data_sort = lin_data.sort_values(by='lis_premium')\n",
    "\n",
    "#quartic polynomial prediction with bandwith of $10, year 2006, no enhanced benefits\n",
    "condition3 = ((full_data['rd_window_1'] == 1) & (full_data['year'] == 2006) & (full_data['e_ben']==0))\n",
    "poly_data = full_data[condition3]\n",
    "quart_poly = smf.ols(formula = 'ln_share ~ below_bench_1 + lis_prem_pos + lis_prem_neg + lis_prem_pos_sq + lis_prem_neg_sq + lis_prem_pos_cu + lis_prem_neg_cu + lis_prem_pos_qu + lis_prem_neg_qu', data = poly_data).fit(cov_type='cluster', cov_kwds={'groups': poly_data['uniqueID']})\n",
    "poly_data['quart_poly'] = quart_poly.predict(poly_data)\n",
    "poly_data_sort = poly_data.sort_values(by='lis_premium')"
   ]
  },
  {
   "cell_type": "code",
   "execution_count": 12,
   "metadata": {},
   "outputs": [
    {
     "data": {
      "image/png": "[encoded data removed]",
      "text/plain": [
       "<Figure size 640x480 with 1 Axes>"
      ]
     },
     "metadata": {},
     "output_type": "display_data"
    }
   ],
   "source": [
    "#creating the graph \n",
    "ytitle = \"Log Enrollment Share, 2006\"\n",
    "plt.scatter(scatter_data['bin'], scatter_data['bin_scatter'], label='Scatter')\n",
    "plt.plot(lin_data_sort['lis_premium'], lin_data_sort['local_lin'], linestyle='dashed', color='gray', label='Local Linear')\n",
    "plt.plot(poly_data_sort['lis_premium'], poly_data_sort['quart_poly'], linestyle='solid', color='black', label='Quartic Polynomial')\n",
    "plt.xlabel(\"Monthly Premium - LIS Subsidy, 2006\")\n",
    "plt.ylabel(ytitle)\n",
    "plt.title(\"Figure 3\")\n",
    "plt.legend()\n",
    "plt.show()"
   ]
  },
  {
   "cell_type": "markdown",
   "metadata": {},
   "source": [
    "##### 3. Calonico, Cattaneo, and Titiunik (2015) discuss the appropriate partition size for binned scatterplots such as that in Figure 3 of Ericson (2014). More formally, denote by $\\mathbb{P}_{-,n} = \\{P_{-,j} : j = 1, 2, ...J_{-,n}\\}$ and $\\mathbb{P_{+,n}} = \\{P_{+,j} : j = 1, 2, ...J_{+,n}\\}$ the partitions of the support of the running variable $x_i$ on the left and right (respectively) of the cutoff, $\\bar{x}$. $P_{-,j}$ and $P_{+,n}$ denote the actual supports for each $j$ partition of size $J_{-,n}$ and $J_{+,n}$ such that $[x_l, \\bar{x}) = \\cup_{j=1}^{J_{-.n}} P_{-,j}$ and $(\\bar{x}, x_u] = \\cup_{j=1}^{J_{+,n}} P_{+,j}$. Individual bins are denoted by $p_{-,j}$ and $p_{+,j}$. With this notation in hand, we can write the partitions $J_{-,n}$ and $J_{+,n}$ with equally-spaced bins as $$ p_{-,j} = x_l + j \\times \\frac{\\bar{x}-x_l}{J_{-,n}}$$ and $$p_{+,j} = \\bar{x} + j \\times \\frac{x_u - \\bar{x}}{J_{+,n}}$$ Recreate Figure 3 from Ericson (2014) using $J_{-,n} = J_{+,n} = 10$ and $J_{-,n} = J_{+,n} = 30$ Discuss your results and compare them to your figure in Part 2. "
   ]
  },
  {
   "cell_type": "markdown",
   "metadata": {},
   "source": [
    "##### 4. With the notation above, Calonico, Cattaneo, and Titiunik (2015) derive the optimal number of partitions for an evenly-spaced (ES) RD plot. They show that $$J_{ES, -, n} = [\\frac{V_-}{\\mathbb{V}_{ES,-}} \\frac{n}{\\log(n)^2}]$$ and $$J_{ES, +, n} = [\\frac{V_+}{\\mathbb{V}_{ES,+}} \\frac{n}{\\log(n)^2}]$$ where $V_-$ and $V_+$ denote the sample variance of the subsamples to the left and right of the cutoff and $\\Nu_{ES}$ is an integrated variance term derived in the paper. Use the rdrobust package in R (or Stata or Python) to find the optimal number of bins with an evenly-spaced binning strategy. Report this bin count and recreate your binned scatterplots from parts 2 and 3 based on the optimal bin number."
   ]
  },
  {
   "cell_type": "markdown",
   "metadata": {},
   "source": [
    "##### 5. One key underlying assumption for RD design is that agents cannot precisely manipulate the running variable. While “precisely” is not very scientific, we can at least test for whether there appears to be a discrete jump in the running variable around the threshold. Evidence of such a jump may suggest that manipulation is present. Provide the results from the manipulation tests described in Cattaneo, Jansson, and Ma (2018). This test can be implemented with the rddensity package in R, Stata, or Python."
   ]
  },
  {
   "cell_type": "markdown",
   "metadata": {},
   "source": [
    "##### 6. Recreate Panels A and B of Table 3 in Ericson (2014) using the same bandwidth of $4.00 but without any covariates."
   ]
  },
  {
   "cell_type": "markdown",
   "metadata": {},
   "source": [
    "##### 7. Calonico, Cattaneo, and Farrell (2020) show that pre-existing optimal bandwidth calculations (such as those used in Ericson (2014)) are invalid for appropriate inference. They propose an alternative method to derive minimal coverage error (CE)-optimal bandwidths. Re-estimate your RD results using the CE-optimal bandwidth (rdrobust will do this for you) and compare the bandwidth and RD estimates to that in Table 3 of Ericson (2014)."
   ]
  },
  {
   "cell_type": "markdown",
   "metadata": {},
   "source": [
    "##### 8. Now let’s extend the analysis in Section V of Ericson (2014) using IV. Use the presence of Part D low-income subsidy as an IV for market share to examine the effect of market share in 2006 on future premium changes."
   ]
  },
  {
   "cell_type": "markdown",
   "metadata": {},
   "source": [
    "##### 9. Discuss your findings and compare results from different binwidths and bandwidths. Compare your results in part 8 to the invest-then-harvest estimates from Table 4 in Ericson (2014)."
   ]
  },
  {
   "cell_type": "markdown",
   "metadata": {},
   "source": [
    "##### 10. Reflect on this assignment. What did you find most challenging? What did you find most surprising?"
   ]
  }
 ],
 "metadata": {
  "kernelspec": {
   "display_name": "Python 3",
   "language": "python",
   "name": "python3"
  },
  "language_info": {
   "codemirror_mode": {
    "name": "ipython",
    "version": 3
   },
   "file_extension": ".py",
   "mimetype": "text/x-python",
   "name": "python",
   "nbconvert_exporter": "python",
   "pygments_lexer": "ipython3",
   "version": "3.12.0"
  }
 },
 "nbformat": 4,
 "nbformat_minor": 2
}
